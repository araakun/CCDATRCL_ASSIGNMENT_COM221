{
  "nbformat": 4,
  "nbformat_minor": 0,
  "metadata": {
    "colab": {
      "provenance": []
    },
    "kernelspec": {
      "name": "python3",
      "display_name": "Python 3"
    },
    "language_info": {
      "name": "python"
    }
  },
  "cells": [
    {
      "cell_type": "code",
      "execution_count": 2,
      "metadata": {
        "id": "BNgSQKyHtRbs"
      },
      "outputs": [],
      "source": [
        "class Node:\n",
        "    def __init__(self, data):\n",
        "        self.data = data\n",
        "        self.next = None\n",
        "        self.prev = None"
      ]
    },
    {
      "cell_type": "code",
      "source": [
        "class LinkedList:\n",
        "\n",
        "    def __init__(self):\n",
        "        self.head = None\n",
        "\n",
        "    def traverse(self, node):\n",
        "        while node:\n",
        "            print(node.data, end=\" -> \")\n",
        "            node = node.next"
      ],
      "metadata": {
        "id": "TTK69EkTyWe7"
      },
      "execution_count": 3,
      "outputs": []
    },
    {
      "cell_type": "code",
      "source": [
        "class DoublyLinkedList:\n",
        "\n",
        "    def __init__(self):\n",
        "        self.head = None\n",
        "\n",
        "    def traverse(self, node):\n",
        "        while node:\n",
        "            print(node.data, end=\" -> \")\n",
        "            node = node.next"
      ],
      "metadata": {
        "id": "jrFpgYdUyZQx"
      },
      "execution_count": 4,
      "outputs": []
    },
    {
      "cell_type": "code",
      "source": [
        "class CircularLinkedList:\n",
        "\n",
        "    def __init__(self):\n",
        "        self.head = None\n",
        "\n",
        "    def traverse(self, node):\n",
        "\n",
        "        head = node\n",
        "\n",
        "        while node:\n",
        "            print(node.data, end=\" -> \")\n",
        "            node = node.next\n",
        "\n",
        "            # Break to prevent infinite loop\n",
        "            if node == head:\n",
        "                break"
      ],
      "metadata": {
        "id": "t4_osufAyd4U"
      },
      "execution_count": 5,
      "outputs": []
    },
    {
      "cell_type": "code",
      "source": [
        "linked_list = LinkedList()\n",
        "\n",
        "linked_list.head = Node(\"Ara\")\n",
        "node_b = Node(\"Diana\")\n",
        "node_c = Node(\"Joyce\")\n",
        "node_d = Node(\"Rovic\")\n",
        "node_e = Node(\"Allen\")\n",
        "\n",
        "linked_list.head.next = node_b\n",
        "node_b.next = node_c\n",
        "node_c.next = node_d\n",
        "node_d.next = node_e\n",
        "\n",
        "linked_list.traverse(linked_list.head)\n"
      ],
      "metadata": {
        "colab": {
          "base_uri": "https://localhost:8080/"
        },
        "id": "0t1rYslfyf-n",
        "outputId": "5174bfbd-2786-47ce-a69a-b94833f4e85e"
      },
      "execution_count": 11,
      "outputs": [
        {
          "output_type": "stream",
          "name": "stdout",
          "text": [
            "Ara -> Diana -> Joyce -> Rovic -> Allen -> "
          ]
        }
      ]
    },
    {
      "cell_type": "code",
      "source": [
        "doubly_linked_list = DoublyLinkedList()\n",
        "\n",
        "doubly_linked_list.head = Node(\"Ara\")\n",
        "node_b = Node(\"Diana\")\n",
        "node_c = Node(\"Joyce\")\n",
        "node_d = Node(\"Rovic\")\n",
        "node_e = Node(\"Allen\")\n",
        "\n",
        "doubly_linked_list.head.prev = None\n",
        "doubly_linked_list.head.next = node_b\n",
        "\n",
        "node_b.prev = doubly_linked_list.head\n",
        "node_b.next = node_c\n",
        "\n",
        "node_c.prev = node_b\n",
        "node_c.next = node_d\n",
        "\n",
        "node_d.prev = node_c\n",
        "node_d.next = node_e\n",
        "\n",
        "node_e.prev = node_d\n",
        "node_e.next = None\n",
        "\n",
        "doubly_linked_list.traverse(doubly_linked_list.head)"
      ],
      "metadata": {
        "colab": {
          "base_uri": "https://localhost:8080/"
        },
        "id": "Jz2nMp7z04c1",
        "outputId": "fe644359-0dc2-4196-9ea8-440f3d2428d6"
      },
      "execution_count": 18,
      "outputs": [
        {
          "output_type": "stream",
          "name": "stdout",
          "text": [
            "Ara -> Diana -> Joyce -> Rovic -> Allen -> "
          ]
        }
      ]
    },
    {
      "cell_type": "code",
      "source": [
        "print(\"First in row is:\", doubly_linked_list.head.data)\n",
        "print(\"Sitting after Ara is:\", doubly_linked_list.head.next.data)\n",
        "\n",
        "print(\"Sitting before Diana is:\", node_b.prev.data)\n",
        "print(\"Sitting after Diana is :\", node_b.next.data)\n",
        "\n",
        "print(\"Sitting before Joyce is:\", node_c.prev.data)\n",
        "print(\"Sitting after Joyce is :\", node_c.next.data)\n",
        "\n",
        "print(\"Sitting before Rovic is:\", node_d.prev.data)\n",
        "print(\"Sitting after Rovic is :\", node_d.next.data)\n",
        "\n",
        "print(\"Sitting before Allen is:\", node_e.prev.data)\n",
        "print(\"Sitting after Allen is: None\")\n"
      ],
      "metadata": {
        "colab": {
          "base_uri": "https://localhost:8080/"
        },
        "id": "GE7MG0v92_kl",
        "outputId": "6f3e45f4-290b-43c1-ee0d-ea219a633241"
      },
      "execution_count": 21,
      "outputs": [
        {
          "output_type": "stream",
          "name": "stdout",
          "text": [
            "First in row is: Ara\n",
            "Sitting after Ara is: Diana\n",
            "Sitting before Diana is: Ara\n",
            "Sitting after Diana is : Joyce\n",
            "Sitting before Joyce is: Diana\n",
            "Sitting after Joyce is : Rovic\n",
            "Sitting before Rovic is: Joyce\n",
            "Sitting after Rovic is : Allen\n",
            "Sitting before Allen is: Rovic\n",
            "Sitting after Allen is: None\n"
          ]
        }
      ]
    },
    {
      "cell_type": "code",
      "source": [
        "circular_linked_list = CircularLinkedList()\n",
        "\n",
        "circular_linked_list.head = Node(\"Ara\")\n",
        "node_b = Node(\"Diana\")\n",
        "node_c = Node(\"Joyce\")\n",
        "node_d = Node(\"Rovic\")\n",
        "node_e = Node(\"Allen\")\n",
        "\n",
        "circular_linked_list.head.next = node_b\n",
        "node_b.next = node_c\n",
        "node_c.next = node_d\n",
        "node_d.next = node_e\n",
        "node_e.next = circular_linked_list.head\n",
        "\n",
        "circular_linked_list.traverse(circular_linked_list.head)"
      ],
      "metadata": {
        "colab": {
          "base_uri": "https://localhost:8080/"
        },
        "id": "sJTMCLeJA9PL",
        "outputId": "6ca21601-8e3a-413f-d677-84b700c8fcf0"
      },
      "execution_count": 23,
      "outputs": [
        {
          "output_type": "stream",
          "name": "stdout",
          "text": [
            "Ara -> Diana -> Joyce -> Rovic -> Allen -> "
          ]
        }
      ]
    },
    {
      "cell_type": "code",
      "source": [
        "print(\"First in row is:\", circular_linked_list.head.data)\n",
        "print(\"Sitting after Ara is:\", circular_linked_list.head.next.data)\n",
        "print(\"Sitting after Diana is :\", node_b.next.data)\n",
        "print(\"Sitting after Joyce is :\", node_c.next.data)\n",
        "print(\"Sitting after Rovic is :\", node_d.next.data)\n",
        "print(\"Sitting after Allen is:\", circular_linked_list.head.data)"
      ],
      "metadata": {
        "colab": {
          "base_uri": "https://localhost:8080/"
        },
        "id": "d0AzvOR1Bw7G",
        "outputId": "fe5631d1-378d-497c-e040-5a7ca9ab0f87"
      },
      "execution_count": 25,
      "outputs": [
        {
          "output_type": "stream",
          "name": "stdout",
          "text": [
            "First in row is: Ara\n",
            "Sitting after Ara is: Diana\n",
            "Sitting after Diana is : Joyce\n",
            "Sitting after Joyce is : Rovic\n",
            "Sitting after Rovic is : Allen\n",
            "Sitting after Allen is: Ara\n"
          ]
        }
      ]
    }
  ]
}