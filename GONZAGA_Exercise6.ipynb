{
  "cells": [
    {
      "cell_type": "markdown",
      "metadata": {
        "id": "xgYRRc3rXFZK"
      },
      "source": [
        "# Exercise 6"
      ]
    },
    {
      "cell_type": "markdown",
      "metadata": {
        "id": "XSGEUYU5XFZR"
      },
      "source": [
        "#### Pre-defined code"
      ]
    },
    {
      "cell_type": "code",
      "execution_count": 18,
      "metadata": {
        "id": "2Cunq8wpXFZS"
      },
      "outputs": [],
      "source": [
        "class Node:\n",
        "    def __init__(self, item):\n",
        "        self.left = None\n",
        "        self.right = None\n",
        "        self.val = item"
      ]
    },
    {
      "cell_type": "code",
      "execution_count": 19,
      "metadata": {
        "id": "AQ9Ndl7nXFZV"
      },
      "outputs": [],
      "source": [
        "def inorder(root):\n",
        "\n",
        "    if root:\n",
        "        # Traverse left\n",
        "        inorder(root.left)\n",
        "        # Traverse root\n",
        "        print(str(root.val) + \"->\", end='')\n",
        "        # Traverse right\n",
        "        inorder(root.right)\n",
        "\n",
        "def postorder(root):\n",
        "\n",
        "    if root:\n",
        "        # Traverse left\n",
        "        postorder(root.left)\n",
        "        # Traverse right\n",
        "        postorder(root.right)\n",
        "        # Traverse root\n",
        "        print(str(root.val) + \"->\", end='')\n",
        "\n",
        "def preorder(root):\n",
        "\n",
        "    if root:\n",
        "        # Traverse root\n",
        "        print(str(root.val) + \"->\", end='')\n",
        "        # Traverse left\n",
        "        preorder(root.left)\n",
        "        # Traverse right\n",
        "        preorder(root.right)"
      ]
    },
    {
      "cell_type": "markdown",
      "metadata": {
        "id": "RDeNuYQMXFZW"
      },
      "source": [
        "#### 1. Construct Create your own company org chart and put yourself as CEO.\n",
        "\n",
        "Using a Tree data structure,\n",
        "\n",
        "- Assign yourself as CEO\n",
        "\n",
        "- Assign any of your classmate as HR Director\n",
        "- Assign any of your classmate as Sales Director\n",
        "\n",
        "- Assign any of your classmate as trainee. His/her boss is the HR Director\n",
        "- Assign any of your classmate as a staff and trainee. Their boss is the Sales Director\n"
      ]
    },
    {
      "cell_type": "markdown",
      "metadata": {
        "id": "uWUGEtMoXFZX"
      },
      "source": [
        "<img src=\"https://thumbs.dreamstime.com/z/cartoon-organization-chart-some-company-93778925.jpg\"/>"
      ]
    },
    {
      "cell_type": "code",
      "execution_count": 24,
      "metadata": {
        "id": "wI5uf7BDXFZY"
      },
      "outputs": [],
      "source": [
        "# put your answer here\n",
        "\n",
        "root = Node(\"CEO: Ara\")\n",
        "root.right = Node(\"Sales Director: Allen\")\n",
        "root.left = Node(\"HR Director: Diana\")\n",
        "\n",
        "root.left.left = Node(\"Trainee:Rovic\")\n",
        "\n",
        "root.right.left = Node(\"Staff: Earl\")\n",
        "root.right.right = Node(\"Trainee: Kalli\")"
      ]
    },
    {
      "cell_type": "markdown",
      "metadata": {
        "id": "BA3VGjC3XFZZ"
      },
      "source": [
        "#### 2. Traverse the tree in in-order traversal"
      ]
    },
    {
      "cell_type": "code",
      "execution_count": 25,
      "metadata": {
        "id": "d-2AHuhOXFZa",
        "colab": {
          "base_uri": "https://localhost:8080/"
        },
        "outputId": "97ffe132-08f5-41bc-940d-a0188bc9ea9f"
      },
      "outputs": [
        {
          "output_type": "stream",
          "name": "stdout",
          "text": [
            "Inorder Traversal\n",
            "Trainee:Rovic->HR Director: Diana->CEO: Ara->Staff: Earl->Sales Director: Allen->Trainee: Kalli->"
          ]
        }
      ],
      "source": [
        "# put your answer here\n",
        "print(\"Inorder Traversal\")\n",
        "inorder(root)"
      ]
    },
    {
      "cell_type": "markdown",
      "metadata": {
        "id": "Ix1GMzZ0XFZa"
      },
      "source": [
        "#### 3. Traverse the tree in pre-order traversal"
      ]
    },
    {
      "cell_type": "code",
      "execution_count": 27,
      "metadata": {
        "id": "gpANvsWQXFZb",
        "colab": {
          "base_uri": "https://localhost:8080/"
        },
        "outputId": "d33f7960-f198-4583-972c-a72cb23dd705"
      },
      "outputs": [
        {
          "output_type": "stream",
          "name": "stdout",
          "text": [
            "Pre-Order Traversal\n",
            "CEO: Ara->HR Director: Diana->Trainee:Rovic->Sales Director: Allen->Staff: Earl->Trainee: Kalli->"
          ]
        }
      ],
      "source": [
        "# put your answer here\n",
        "print(\"Pre-Order Traversal\")\n",
        "preorder(root)"
      ]
    },
    {
      "cell_type": "markdown",
      "metadata": {
        "id": "dPPxMoijXFZb"
      },
      "source": [
        "#### 4. Traverse the tree in post-order traversal"
      ]
    },
    {
      "cell_type": "code",
      "execution_count": 26,
      "metadata": {
        "id": "OG8OmbWXXFZc",
        "colab": {
          "base_uri": "https://localhost:8080/"
        },
        "outputId": "3b08e04c-3d82-4d0e-ccd3-e878198b57ae"
      },
      "outputs": [
        {
          "output_type": "stream",
          "name": "stdout",
          "text": [
            "Post-Order Traversal\n",
            "Trainee:Rovic->HR Director: Diana->Staff: Earl->Trainee: Kalli->Sales Director: Allen->CEO: Ara->"
          ]
        }
      ],
      "source": [
        "# put your answer here\n",
        "print(\"Post-Order Traversal\")\n",
        "postorder(root)"
      ]
    }
  ],
  "metadata": {
    "kernelspec": {
      "display_name": "Python 3",
      "language": "python",
      "name": "python3"
    },
    "language_info": {
      "codemirror_mode": {
        "name": "ipython",
        "version": 3
      },
      "file_extension": ".py",
      "mimetype": "text/x-python",
      "name": "python",
      "nbconvert_exporter": "python",
      "pygments_lexer": "ipython3",
      "version": "3.11.4"
    },
    "orig_nbformat": 4,
    "colab": {
      "provenance": []
    }
  },
  "nbformat": 4,
  "nbformat_minor": 0
}