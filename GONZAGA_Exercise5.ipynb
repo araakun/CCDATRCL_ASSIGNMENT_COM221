{
  "cells": [
    {
      "cell_type": "markdown",
      "metadata": {
        "id": "DN15rkKvhGBr"
      },
      "source": [
        "# Exercise 5"
      ]
    },
    {
      "cell_type": "markdown",
      "metadata": {
        "id": "oEys_5t7hGBt"
      },
      "source": [
        "#### 1. Create a dictionary of your 10 favorite songs."
      ]
    },
    {
      "cell_type": "markdown",
      "metadata": {
        "id": "T1iOtzXshGBu"
      },
      "source": [
        "Example:\n",
        "\n",
        "|KEY|VALUE|\n",
        "|---|---|\n",
        "|001|My Love|\n",
        "|002|Like a rose|"
      ]
    },
    {
      "cell_type": "code",
      "execution_count": 22,
      "metadata": {
        "id": "dprOhMRchGBu"
      },
      "outputs": [],
      "source": [
        "# put your answer here\n",
        "\n",
        "mydictionary = {\n",
        "  \"001\": \"I feel like I'm drowning\",\n",
        "  \"002\": \"Love is a bitch\",\n",
        "  \"003\": \"Lost the Game\",\n",
        "  \"004\": \"You?\",\n",
        "  \"005\": \"Twisted\",\n",
        "  \"006\": \"Gravity\",\n",
        "  \"007\": \"Go F*ck Yourself\",\n",
        "  \"008\": \"Fire in my Head\",\n",
        "  \"009\": \"Had some drinks\",\n",
        "  \"010\": \"Pink\"\n",
        "}\n"
      ]
    },
    {
      "cell_type": "markdown",
      "metadata": {
        "id": "g1FstA7XhGBv"
      },
      "source": [
        "#### 2. Loop through the dictionary by its **key** and **value**"
      ]
    },
    {
      "cell_type": "code",
      "execution_count": 23,
      "metadata": {
        "id": "QgyUTiuHhGBv",
        "colab": {
          "base_uri": "https://localhost:8080/"
        },
        "outputId": "7687602a-7bb3-47aa-ac7f-a0b014cf79bd"
      },
      "outputs": [
        {
          "output_type": "stream",
          "name": "stdout",
          "text": [
            "001 I feel like I'm drowning\n",
            "002 Love is a bitch\n",
            "003 Lost the Game\n",
            "004 You?\n",
            "005 Twisted\n",
            "006 Gravity\n",
            "007 Go F*ck Yourself\n",
            "008 Fire in my Head\n",
            "009 Had some drinks\n",
            "010 Pink\n"
          ]
        }
      ],
      "source": [
        "# put your answer here\n",
        "\n",
        "for x, y in mydictionary.items():\n",
        "  print(x, y)"
      ]
    },
    {
      "cell_type": "markdown",
      "metadata": {
        "id": "h5N_w8-yhGBw"
      },
      "source": [
        "#### 3. Add one additional song"
      ]
    },
    {
      "cell_type": "code",
      "execution_count": 24,
      "metadata": {
        "id": "oUXMAJWEhGBw",
        "colab": {
          "base_uri": "https://localhost:8080/"
        },
        "outputId": "f5d97159-a011-4519-db94-d526b3d8661b"
      },
      "outputs": [
        {
          "output_type": "execute_result",
          "data": {
            "text/plain": [
              "{'001': \"I feel like I'm drowning\",\n",
              " '002': 'Love is a bitch',\n",
              " '003': 'Lost the Game',\n",
              " '004': 'You?',\n",
              " '005': 'Twisted',\n",
              " '006': 'Gravity',\n",
              " '007': 'Go F*ck Yourself',\n",
              " '008': 'Fire in my Head',\n",
              " '009': 'Had some drinks',\n",
              " '010': 'Pink',\n",
              " '011': 'BBY'}"
            ]
          },
          "metadata": {},
          "execution_count": 24
        }
      ],
      "source": [
        "# put your answer here\n",
        "\n",
        "mydictionary.update({\"011\": \"BBY\"})\n",
        "mydictionary"
      ]
    },
    {
      "cell_type": "markdown",
      "metadata": {
        "id": "7OlW5r9dhGBx"
      },
      "source": [
        "#### 4. Remove one song"
      ]
    },
    {
      "cell_type": "code",
      "execution_count": 25,
      "metadata": {
        "id": "g39mqwpDhGBx",
        "colab": {
          "base_uri": "https://localhost:8080/"
        },
        "outputId": "683553c5-8c10-497d-9a92-07b5812c3aa5"
      },
      "outputs": [
        {
          "output_type": "execute_result",
          "data": {
            "text/plain": [
              "{'001': \"I feel like I'm drowning\",\n",
              " '002': 'Love is a bitch',\n",
              " '003': 'Lost the Game',\n",
              " '004': 'You?',\n",
              " '005': 'Twisted',\n",
              " '006': 'Gravity',\n",
              " '008': 'Fire in my Head',\n",
              " '009': 'Had some drinks',\n",
              " '010': 'Pink',\n",
              " '011': 'BBY'}"
            ]
          },
          "metadata": {},
          "execution_count": 25
        }
      ],
      "source": [
        "# put your answer here\n",
        "\n",
        "mydictionary.pop(\"007\")\n",
        "mydictionary"
      ]
    },
    {
      "cell_type": "markdown",
      "metadata": {
        "id": "gZ8Sr1bzhGBy"
      },
      "source": [
        "#### 5. Create a nested dictionary of your 10 favorite songs with 5 genres. Display all of the items of the nested dictionary\n",
        "\n",
        "- Each nested dictionary's key should be the genre of the song\n",
        "- Put each song in their respective genre"
      ]
    },
    {
      "cell_type": "markdown",
      "metadata": {
        "id": "US1ZaaSJhGBy"
      },
      "source": [
        "Example:\n",
        "\n",
        "\n",
        "|KEY|VALUE|\n",
        "|---|---|\n",
        "|Pop|{001, Baby}|\n",
        "|Rock|{001, Enter Sandman}|"
      ]
    },
    {
      "cell_type": "code",
      "execution_count": 26,
      "metadata": {
        "id": "z577KULkhGBz",
        "colab": {
          "base_uri": "https://localhost:8080/"
        },
        "outputId": "595b1469-d7bd-4430-810e-54b5c6d3e5ba"
      },
      "outputs": [
        {
          "output_type": "execute_result",
          "data": {
            "text/plain": [
              "{'Indie': {'001': \"I feel like I'm drowning\", '005': 'Twisted'},\n",
              " 'Rock': {'009': 'Had some drinks', '008': 'Fire in my Head'},\n",
              " 'Pop': {'006': 'Gravity', '010': 'Pink'},\n",
              " 'Dance/Electronic': {'003': 'Lost the Game', '004': 'You?'},\n",
              " 'Alternative': {'007': 'Go F*ck Yourself', '002': 'Love is a bitch '}}"
            ]
          },
          "metadata": {},
          "execution_count": 26
        }
      ],
      "source": [
        "# put your answer here\n",
        "\n",
        "mydictionary = {\n",
        "  \"Indie\" : {\n",
        "    \"001\" : \"I feel like I'm drowning\",\n",
        "    \"005\": \"Twisted\"\n",
        "  },\n",
        "  \"Rock\" : {\n",
        "    \"009\": \"Had some drinks\",\n",
        "    \"008\": \"Fire in my Head\"\n",
        "  },\n",
        "  \"Pop\" : {\n",
        "    \"006\": \"Gravity\",\n",
        "    \"010\": \"Pink\"\n",
        "  },\n",
        "  \"Dance/Electronic\" : {\n",
        "    \"003\": \"Lost the Game\",\n",
        "    \"004\": \"You?\"\n",
        "  },\n",
        "  \"Alternative\" : {\n",
        "    \"007\": \"Go F*ck Yourself\",\n",
        "    \"002\": \"Love is a bitch \"\n",
        "  }\n",
        "}\n",
        "\n",
        "mydictionary"
      ]
    },
    {
      "cell_type": "markdown",
      "metadata": {
        "id": "ZMgltzOkhGBz"
      },
      "source": [
        "#### 6. Print the first song of the first genre"
      ]
    },
    {
      "cell_type": "code",
      "execution_count": 27,
      "metadata": {
        "id": "nmXUGoNWhGBz",
        "colab": {
          "base_uri": "https://localhost:8080/"
        },
        "outputId": "a33e0f01-b4a0-4cd6-cca5-095b16760b92"
      },
      "outputs": [
        {
          "output_type": "stream",
          "name": "stdout",
          "text": [
            "I feel like I'm drowning\n"
          ]
        }
      ],
      "source": [
        "# put your answer here\n",
        "\n",
        "print(mydictionary[\"Indie\"][\"001\"])"
      ]
    },
    {
      "cell_type": "markdown",
      "metadata": {
        "id": "dEcgwp_ihGB0"
      },
      "source": [
        "#### 7. Print the first song of the last genre"
      ]
    },
    {
      "cell_type": "code",
      "execution_count": 28,
      "metadata": {
        "id": "ITbuWq2UhGB0",
        "colab": {
          "base_uri": "https://localhost:8080/"
        },
        "outputId": "83eef564-b097-4fe3-cc04-48e5d9bf1a12"
      },
      "outputs": [
        {
          "output_type": "stream",
          "name": "stdout",
          "text": [
            "Go F*ck Yourself\n"
          ]
        }
      ],
      "source": [
        "# put your answer here\n",
        "\n",
        "print(mydictionary[\"Alternative\"][\"007\"])"
      ]
    }
  ],
  "metadata": {
    "kernelspec": {
      "display_name": "Python 3",
      "language": "python",
      "name": "python3"
    },
    "language_info": {
      "codemirror_mode": {
        "name": "ipython",
        "version": 3
      },
      "file_extension": ".py",
      "mimetype": "text/x-python",
      "name": "python",
      "nbconvert_exporter": "python",
      "pygments_lexer": "ipython3",
      "version": "3.11.4"
    },
    "orig_nbformat": 4,
    "colab": {
      "provenance": []
    }
  },
  "nbformat": 4,
  "nbformat_minor": 0
}